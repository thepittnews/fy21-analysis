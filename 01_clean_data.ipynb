{
 "cells": [
  {
   "cell_type": "markdown",
   "id": "3b0f75ff-d675-47e1-a075-884edb11081a",
   "metadata": {},
   "source": [
    "# Setup"
   ]
  },
  {
   "cell_type": "code",
   "execution_count": 1,
   "id": "0d39a3e4-9ec1-4a81-9461-612572c07a5d",
   "metadata": {},
   "outputs": [],
   "source": [
    "import pandas as pd\n",
    "\n",
    "TRANSACTION_INDEX = ['RC#', 'Category', 'Vendor#']\n",
    "\n",
    "def get_tpn_id(i, df):    \n",
    "    return '-'.join((\n",
    "        df.at[i, 'RC#'].astype(str),\n",
    "        df.at[i, 'Category'].astype(str),\n",
    "        df.at[i, 'Vendor#'].astype(str)\n",
    "    ))"
   ]
  },
  {
   "cell_type": "code",
   "execution_count": 2,
   "id": "ad81b566-cd14-4206-841b-19d0acd5b4c5",
   "metadata": {},
   "outputs": [],
   "source": [
    "original = pd.read_csv(\"./data/original.csv\").replace({ 'RC#': { 2: 1 }, 'RC Name': { 'SVC Engagement': 'Chancellor' } })"
   ]
  },
  {
   "cell_type": "markdown",
   "id": "c83d5b8d-8082-4c94-bc2a-f6171dd0b66e",
   "metadata": {},
   "source": [
    "# Consolidate same-category-and-vendor transactions within an RC"
   ]
  },
  {
   "cell_type": "code",
   "execution_count": 3,
   "id": "8ecf9809-4089-4e7a-a467-e53884e56a86",
   "metadata": {},
   "outputs": [],
   "source": [
    "original = original.groupby(['RC#', 'Category', 'Vendor#']).agg({\n",
    "    # 'RC#': 'first',\n",
    "    'RC Name': 'first',\n",
    "    # 'Category': 'first',\n",
    "    # 'Vendor#': 'first',\n",
    "    'Vendor Name': 'first',\n",
    "    'Address 1': 'first',\n",
    "    'Address 2': 'first',\n",
    "    'City': 'first',\n",
    "    'State': 'first',\n",
    "    'ZIP code': 'first',\n",
    "    'Amount': 'sum',\n",
    "}).reset_index()"
   ]
  },
  {
   "cell_type": "code",
   "execution_count": 4,
   "id": "8cd0e9fc-28ee-4b65-9b15-e4c5900a413e",
   "metadata": {},
   "outputs": [],
   "source": [
    "original = original[[\n",
    "    'RC#', 'RC Name', 'Category', 'Vendor#', 'Vendor Name', 'Address 1', 'Address 2', 'City', 'State', 'ZIP code', 'Amount'\n",
    "]]\n",
    "\n",
    "original = original.sort_values(by=TRANSACTION_INDEX)\n",
    "\n",
    "for i in original.index:\n",
    "    original.at[i, 'TPN_ID'] = get_tpn_id(i, original)"
   ]
  },
  {
   "cell_type": "code",
   "execution_count": 5,
   "id": "60cb3f80-1d72-4fe3-8cc5-285cd0976b87",
   "metadata": {},
   "outputs": [
    {
     "name": "stdout",
     "output_type": "stream",
     "text": [
      "<class 'pandas.core.frame.DataFrame'>\n",
      "Int64Index: 5568 entries, 0 to 5567\n",
      "Data columns (total 12 columns):\n",
      " #   Column       Non-Null Count  Dtype \n",
      "---  ------       --------------  ----- \n",
      " 0   RC#          5568 non-null   int64 \n",
      " 1   RC Name      5568 non-null   object\n",
      " 2   Category     5568 non-null   int64 \n",
      " 3   Vendor#      5568 non-null   int64 \n",
      " 4   Vendor Name  5568 non-null   object\n",
      " 5   Address 1    5544 non-null   object\n",
      " 6   Address 2    1290 non-null   object\n",
      " 7   City         5469 non-null   object\n",
      " 8   State        5371 non-null   object\n",
      " 9   ZIP code     5557 non-null   object\n",
      " 10  Amount       5568 non-null   int64 \n",
      " 11  TPN_ID       5568 non-null   object\n",
      "dtypes: int64(4), object(8)\n",
      "memory usage: 694.5+ KB\n"
     ]
    }
   ],
   "source": [
    "original.info()"
   ]
  },
  {
   "cell_type": "code",
   "execution_count": 6,
   "id": "45fd62cb-ef31-49b3-a234-a832a71ca2db",
   "metadata": {},
   "outputs": [],
   "source": [
    "updated = pd.read_csv(\"./data/updated.csv\")\n",
    "updated = updated.sort_values(by=TRANSACTION_INDEX)"
   ]
  },
  {
   "cell_type": "code",
   "execution_count": 7,
   "id": "46abeea7-2bf5-4553-9d01-a97b26ea5b8e",
   "metadata": {},
   "outputs": [],
   "source": [
    "for i in updated.index:\n",
    "    updated.at[i, 'TPN_ID'] = get_tpn_id(i, updated)"
   ]
  },
  {
   "cell_type": "code",
   "execution_count": 8,
   "id": "71c16f27-be9c-4965-a0e0-c30e8fb2051e",
   "metadata": {},
   "outputs": [
    {
     "name": "stdout",
     "output_type": "stream",
     "text": [
      "<class 'pandas.core.frame.DataFrame'>\n",
      "Int64Index: 5920 entries, 4352 to 1519\n",
      "Data columns (total 12 columns):\n",
      " #   Column       Non-Null Count  Dtype \n",
      "---  ------       --------------  ----- \n",
      " 0   RC#          5920 non-null   int64 \n",
      " 1   RC Name      5920 non-null   object\n",
      " 2   Category     5920 non-null   int64 \n",
      " 3   Vendor#      5920 non-null   int64 \n",
      " 4   Vendor Name  5920 non-null   object\n",
      " 5   Address 1    5896 non-null   object\n",
      " 6   Address 2    1359 non-null   object\n",
      " 7   City         5821 non-null   object\n",
      " 8   State        5716 non-null   object\n",
      " 9   ZIP code     5909 non-null   object\n",
      " 10  Amount       5920 non-null   int64 \n",
      " 11  TPN_ID       5920 non-null   object\n",
      "dtypes: int64(4), object(8)\n",
      "memory usage: 730.3+ KB\n"
     ]
    }
   ],
   "source": [
    "updated.info()"
   ]
  },
  {
   "cell_type": "markdown",
   "id": "d5a843b2-587c-4399-8900-8ac9aa85ef41",
   "metadata": {},
   "source": [
    "# Re-assign transactions from old to new RC if they have the same category/vendor/amount"
   ]
  },
  {
   "cell_type": "code",
   "execution_count": null,
   "id": "7f25b05d-0659-4811-b692-5129fafdfccf",
   "metadata": {},
   "outputs": [],
   "source": [
    "merged_transactions = original.merge(updated.drop_duplicates(), on='TPN_ID', how='right', indicator=True)\n",
    "merged_transactions = merged_transactions[merged_transactions._merge == \"right_only\"]\n",
    "\n",
    "for i in merged_transactions.index:\n",
    "    relevant_transactions = original[\n",
    "        (original['Category'] == merged_transactions.at[i, 'Category_y']) &\n",
    "        (original['Vendor#'] == merged_transactions.at[i, 'Vendor#_y']) &\n",
    "        (original['Amount'] == merged_transactions.at[i, 'Amount_y'])\n",
    "    ]\n",
    "    \n",
    "    if len(relevant_transactions) > 0:\n",
    "        original.loc[relevant_transactions.head().index[0], \"RC#\"] = merged_transactions.at[i, 'RC#_y']\n",
    "        original.loc[relevant_transactions.head().index[0], \"RC Name\"] = merged_transactions.at[i, 'RC Name_y']"
   ]
  },
  {
   "cell_type": "markdown",
   "id": "63a49299-e180-4346-b15b-d8201ee19215",
   "metadata": {},
   "source": [
    "# Re-assign internal ID number due to possible RC changes"
   ]
  },
  {
   "cell_type": "code",
   "execution_count": null,
   "id": "4990f2bd-1f87-4a41-9573-12992a500904",
   "metadata": {},
   "outputs": [],
   "source": [
    "original = original.sort_values(by=TRANSACTION_INDEX)\n",
    "\n",
    "for i in original.index:\n",
    "    original.at[i, 'TPN_ID'] = get_tpn_id(i, original)"
   ]
  },
  {
   "cell_type": "markdown",
   "id": "4d9d8207-102a-44e4-8108-690ef8077c60",
   "metadata": {},
   "source": [
    "# Save data"
   ]
  },
  {
   "cell_type": "code",
   "execution_count": null,
   "id": "4613909a-048e-4b60-b98b-9a1fa5644788",
   "metadata": {},
   "outputs": [],
   "source": [
    "original.to_csv(\"./data/original_sorted.csv\", index=False)"
   ]
  },
  {
   "cell_type": "code",
   "execution_count": null,
   "id": "89dc3d70-836e-4433-a0f9-962c40ad50c3",
   "metadata": {},
   "outputs": [],
   "source": [
    "updated.to_csv(\"./data/updated_sorted.csv\", index=False)"
   ]
  }
 ],
 "metadata": {
  "kernelspec": {
   "display_name": "Python 3 (ipykernel)",
   "language": "python",
   "name": "python3"
  },
  "language_info": {
   "codemirror_mode": {
    "name": "ipython",
    "version": 3
   },
   "file_extension": ".py",
   "mimetype": "text/x-python",
   "name": "python",
   "nbconvert_exporter": "python",
   "pygments_lexer": "ipython3",
   "version": "3.9.10"
  }
 },
 "nbformat": 4,
 "nbformat_minor": 5
}
