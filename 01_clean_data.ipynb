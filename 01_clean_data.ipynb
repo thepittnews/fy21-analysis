{
 "cells": [
  {
   "cell_type": "markdown",
   "id": "3b0f75ff-d675-47e1-a075-884edb11081a",
   "metadata": {},
   "source": [
    "# Setup"
   ]
  },
  {
   "cell_type": "code",
   "execution_count": 1,
   "id": "0d39a3e4-9ec1-4a81-9461-612572c07a5d",
   "metadata": {},
   "outputs": [],
   "source": [
    "import pandas as pd\n",
    "\n",
    "TRANSACTION_INDEX = ['RC#', 'Category', 'Vendor#']\n",
    "\n",
    "def get_tpn_id(i, df):\n",
    "    rc = df.at[i, 'RC#']\n",
    "    category = df.at[i, 'Category']\n",
    "    vendor = df.at[i, 'Vendor#']\n",
    "\n",
    "    relevant_transactions = df[\n",
    "        (df['RC#'] == rc) &\n",
    "        (df['Category'] == category) &\n",
    "        (df['Vendor#'] == vendor)\n",
    "    ]\n",
    "\n",
    "    counter = 0\n",
    "\n",
    "    if len(relevant_transactions) == 0 or len(relevant_transactions) == 1:\n",
    "        counter = 1\n",
    "    else:\n",
    "        if relevant_transactions.at[0, 'Amount'] == df.at[i, 'Amount']:\n",
    "            counter = 1\n",
    "        else:\n",
    "            counter = int(df.at[i - 1, 'TPN_ID'].split('-')[3]) + 1\n",
    "\n",
    "    tpn_id = (\n",
    "        rc.astype(str),\n",
    "        category.astype(str),\n",
    "        vendor.astype(str),\n",
    "        str(counter)\n",
    "    )\n",
    "    \n",
    "    return '-'.join(tpn_id)"
   ]
  },
  {
   "cell_type": "code",
   "execution_count": 2,
   "id": "ad81b566-cd14-4206-841b-19d0acd5b4c5",
   "metadata": {},
   "outputs": [],
   "source": [
    "original = pd.read_csv(\"./data/original.csv\").replace({ 'RC#': { 2: 1 }, 'RC Name': { 'SVC Engagement': 'Chancellor' } })"
   ]
  },
  {
   "cell_type": "code",
   "execution_count": 3,
   "id": "8ecf9809-4089-4e7a-a467-e53884e56a86",
   "metadata": {},
   "outputs": [],
   "source": [
    "# If multiple RC transactions have the same category + vendor, merge them\n",
    "\n",
    "original = original.groupby(['RC#', 'Category', 'Vendor#']).agg({\n",
    "    # 'RC#': 'first',\n",
    "    'RC Name': 'first',\n",
    "    # 'Category': 'first',\n",
    "    # 'Vendor#': 'first',\n",
    "    'Vendor Name': 'first',\n",
    "    'Address 1': 'first',\n",
    "    'Address 2': 'first',\n",
    "    'City': 'first',\n",
    "    'State': 'first',\n",
    "    'ZIP code': 'first',\n",
    "    'Amount': 'sum',\n",
    "}).reset_index()"
   ]
  },
  {
   "cell_type": "code",
   "execution_count": 4,
   "id": "8cd0e9fc-28ee-4b65-9b15-e4c5900a413e",
   "metadata": {},
   "outputs": [],
   "source": [
    "original = original[[\n",
    "    'RC#', 'RC Name', 'Category', 'Vendor#', 'Vendor Name', 'Address 1', 'Address 2', 'City', 'State', 'ZIP code', 'Amount'\n",
    "]]\n",
    "\n",
    "original = original.sort_values(by=TRANSACTION_INDEX)\n",
    "\n",
    "for i in original.index:\n",
    "    original.at[i, 'TPN_ID'] = get_tpn_id(i, original)"
   ]
  },
  {
   "cell_type": "code",
   "execution_count": 5,
   "id": "60cb3f80-1d72-4fe3-8cc5-285cd0976b87",
   "metadata": {},
   "outputs": [
    {
     "name": "stdout",
     "output_type": "stream",
     "text": [
      "<class 'pandas.core.frame.DataFrame'>\n",
      "Int64Index: 5568 entries, 0 to 5567\n",
      "Data columns (total 12 columns):\n",
      " #   Column       Non-Null Count  Dtype \n",
      "---  ------       --------------  ----- \n",
      " 0   RC#          5568 non-null   int64 \n",
      " 1   RC Name      5568 non-null   object\n",
      " 2   Category     5568 non-null   int64 \n",
      " 3   Vendor#      5568 non-null   int64 \n",
      " 4   Vendor Name  5568 non-null   object\n",
      " 5   Address 1    5544 non-null   object\n",
      " 6   Address 2    1290 non-null   object\n",
      " 7   City         5469 non-null   object\n",
      " 8   State        5371 non-null   object\n",
      " 9   ZIP code     5557 non-null   object\n",
      " 10  Amount       5568 non-null   int64 \n",
      " 11  TPN_ID       5568 non-null   object\n",
      "dtypes: int64(4), object(8)\n",
      "memory usage: 694.5+ KB\n"
     ]
    }
   ],
   "source": [
    "original.info()"
   ]
  },
  {
   "cell_type": "code",
   "execution_count": 6,
   "id": "45fd62cb-ef31-49b3-a234-a832a71ca2db",
   "metadata": {},
   "outputs": [],
   "source": [
    "updated = pd.read_csv(\"./data/updated.csv\")\n",
    "updated = updated.sort_values(by=TRANSACTION_INDEX)"
   ]
  },
  {
   "cell_type": "code",
   "execution_count": 7,
   "id": "46abeea7-2bf5-4553-9d01-a97b26ea5b8e",
   "metadata": {},
   "outputs": [],
   "source": [
    "for i in updated.index:\n",
    "    updated.at[i, 'TPN_ID'] = get_tpn_id(i, updated)"
   ]
  },
  {
   "cell_type": "code",
   "execution_count": 8,
   "id": "71c16f27-be9c-4965-a0e0-c30e8fb2051e",
   "metadata": {},
   "outputs": [
    {
     "name": "stdout",
     "output_type": "stream",
     "text": [
      "<class 'pandas.core.frame.DataFrame'>\n",
      "Int64Index: 5920 entries, 4352 to 1519\n",
      "Data columns (total 12 columns):\n",
      " #   Column       Non-Null Count  Dtype \n",
      "---  ------       --------------  ----- \n",
      " 0   RC#          5920 non-null   int64 \n",
      " 1   RC Name      5920 non-null   object\n",
      " 2   Category     5920 non-null   int64 \n",
      " 3   Vendor#      5920 non-null   int64 \n",
      " 4   Vendor Name  5920 non-null   object\n",
      " 5   Address 1    5896 non-null   object\n",
      " 6   Address 2    1359 non-null   object\n",
      " 7   City         5821 non-null   object\n",
      " 8   State        5716 non-null   object\n",
      " 9   ZIP code     5909 non-null   object\n",
      " 10  Amount       5920 non-null   int64 \n",
      " 11  TPN_ID       5920 non-null   object\n",
      "dtypes: int64(4), object(8)\n",
      "memory usage: 730.3+ KB\n"
     ]
    }
   ],
   "source": [
    "updated.info()"
   ]
  },
  {
   "cell_type": "code",
   "execution_count": 9,
   "id": "4613909a-048e-4b60-b98b-9a1fa5644788",
   "metadata": {},
   "outputs": [],
   "source": [
    "original.to_csv(\"./data/original_sorted.csv\", index=False)"
   ]
  },
  {
   "cell_type": "code",
   "execution_count": 10,
   "id": "89dc3d70-836e-4433-a0f9-962c40ad50c3",
   "metadata": {},
   "outputs": [],
   "source": [
    "updated.to_csv(\"./data/updated_sorted.csv\", index=False)"
   ]
  }
 ],
 "metadata": {
  "kernelspec": {
   "display_name": "Python 3 (ipykernel)",
   "language": "python",
   "name": "python3"
  },
  "language_info": {
   "codemirror_mode": {
    "name": "ipython",
    "version": 3
   },
   "file_extension": ".py",
   "mimetype": "text/x-python",
   "name": "python",
   "nbconvert_exporter": "python",
   "pygments_lexer": "ipython3",
   "version": "3.9.10"
  }
 },
 "nbformat": 4,
 "nbformat_minor": 5
}
