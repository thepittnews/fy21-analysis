{
 "cells": [
  {
   "cell_type": "markdown",
   "id": "3b0f75ff-d675-47e1-a075-884edb11081a",
   "metadata": {},
   "source": [
    "# Setup"
   ]
  },
  {
   "cell_type": "code",
   "execution_count": 1,
   "id": "0d39a3e4-9ec1-4a81-9461-612572c07a5d",
   "metadata": {},
   "outputs": [],
   "source": [
    "import pandas as pd"
   ]
  },
  {
   "cell_type": "code",
   "execution_count": 2,
   "id": "ad81b566-cd14-4206-841b-19d0acd5b4c5",
   "metadata": {},
   "outputs": [],
   "source": [
    "original = pd.read_csv(\"./data/original.csv\")"
   ]
  },
  {
   "cell_type": "code",
   "execution_count": 3,
   "id": "60cb3f80-1d72-4fe3-8cc5-285cd0976b87",
   "metadata": {},
   "outputs": [
    {
     "name": "stdout",
     "output_type": "stream",
     "text": [
      "<class 'pandas.core.frame.DataFrame'>\n",
      "RangeIndex: 5570 entries, 0 to 5569\n",
      "Data columns (total 11 columns):\n",
      " #   Column       Non-Null Count  Dtype \n",
      "---  ------       --------------  ----- \n",
      " 0   RC#          5570 non-null   int64 \n",
      " 1   RC Name      5570 non-null   object\n",
      " 2   Category     5570 non-null   int64 \n",
      " 3   Vendor#      5570 non-null   int64 \n",
      " 4   Vendor Name  5570 non-null   object\n",
      " 5   Address 1    5546 non-null   object\n",
      " 6   Address 2    1290 non-null   object\n",
      " 7   City         5471 non-null   object\n",
      " 8   State        5373 non-null   object\n",
      " 9   ZIP code     5559 non-null   object\n",
      " 10  Amount       5570 non-null   int64 \n",
      "dtypes: int64(4), object(7)\n",
      "memory usage: 478.8+ KB\n"
     ]
    }
   ],
   "source": [
    "original.info()"
   ]
  },
  {
   "cell_type": "code",
   "execution_count": 4,
   "id": "45fd62cb-ef31-49b3-a234-a832a71ca2db",
   "metadata": {},
   "outputs": [],
   "source": [
    "updated = pd.read_csv(\"./data/updated.csv\")"
   ]
  },
  {
   "cell_type": "code",
   "execution_count": 5,
   "id": "71c16f27-be9c-4965-a0e0-c30e8fb2051e",
   "metadata": {},
   "outputs": [
    {
     "name": "stdout",
     "output_type": "stream",
     "text": [
      "<class 'pandas.core.frame.DataFrame'>\n",
      "RangeIndex: 5920 entries, 0 to 5919\n",
      "Data columns (total 11 columns):\n",
      " #   Column       Non-Null Count  Dtype \n",
      "---  ------       --------------  ----- \n",
      " 0   RC#          5920 non-null   int64 \n",
      " 1   RC Name      5920 non-null   object\n",
      " 2   Category     5920 non-null   int64 \n",
      " 3   Vendor#      5920 non-null   int64 \n",
      " 4   Vendor Name  5920 non-null   object\n",
      " 5   Address 1    5896 non-null   object\n",
      " 6   Address 2    1359 non-null   object\n",
      " 7   City         5821 non-null   object\n",
      " 8   State        5716 non-null   object\n",
      " 9   ZIP code     5909 non-null   object\n",
      " 10  Amount       5920 non-null   int64 \n",
      "dtypes: int64(4), object(7)\n",
      "memory usage: 508.9+ KB\n"
     ]
    }
   ],
   "source": [
    "updated.info()"
   ]
  },
  {
   "cell_type": "markdown",
   "id": "5dd5f749-2ef1-4862-9559-01e29c46569d",
   "metadata": {},
   "source": [
    "# Top-line numbers"
   ]
  },
  {
   "cell_type": "code",
   "execution_count": 6,
   "id": "4e5ee955-7bcb-4de0-97f2-af1678cb5603",
   "metadata": {},
   "outputs": [
    {
     "data": {
      "text/plain": [
       "30599050"
      ]
     },
     "execution_count": 6,
     "metadata": {},
     "output_type": "execute_result"
    }
   ],
   "source": [
    "original_sum = original.Amount.sum()\n",
    "updated_sum = updated.Amount.sum()\n",
    "\n",
    "updated_sum - original_sum"
   ]
  },
  {
   "cell_type": "code",
   "execution_count": 7,
   "id": "df6bf752-2a54-4cc9-bc67-a73ffb3054af",
   "metadata": {},
   "outputs": [
    {
     "data": {
      "text/plain": [
       "350"
      ]
     },
     "execution_count": 7,
     "metadata": {},
     "output_type": "execute_result"
    }
   ],
   "source": [
    "new_transactions = len(updated) - len(original)\n",
    "new_transactions"
   ]
  },
  {
   "cell_type": "code",
   "execution_count": 8,
   "id": "5d1f1be2-ab07-41e2-9dce-3e199fa0dbbb",
   "metadata": {},
   "outputs": [],
   "source": [
    "diff = pd.concat([original, updated]).drop_duplicates(keep=False)"
   ]
  },
  {
   "cell_type": "code",
   "execution_count": 9,
   "id": "31c400b1-d4d5-47b5-a725-70446d6de1d6",
   "metadata": {},
   "outputs": [
    {
     "data": {
      "text/plain": [
       "1338"
      ]
     },
     "execution_count": 9,
     "metadata": {},
     "output_type": "execute_result"
    }
   ],
   "source": [
    "total_transactions_changed = len(diff)\n",
    "total_transactions_changed"
   ]
  },
  {
   "cell_type": "code",
   "execution_count": 10,
   "id": "4deb215c-1c11-4b90-997b-a098ae23d9da",
   "metadata": {},
   "outputs": [
    {
     "data": {
      "text/plain": [
       "988"
      ]
     },
     "execution_count": 10,
     "metadata": {},
     "output_type": "execute_result"
    }
   ],
   "source": [
    "original_transactions_changed = total_transactions_changed - new_transactions\n",
    "original_transactions_changed"
   ]
  }
 ],
 "metadata": {
  "kernelspec": {
   "display_name": "Python 3 (ipykernel)",
   "language": "python",
   "name": "python3"
  },
  "language_info": {
   "codemirror_mode": {
    "name": "ipython",
    "version": 3
   },
   "file_extension": ".py",
   "mimetype": "text/x-python",
   "name": "python",
   "nbconvert_exporter": "python",
   "pygments_lexer": "ipython3",
   "version": "3.9.10"
  }
 },
 "nbformat": 4,
 "nbformat_minor": 5
}
