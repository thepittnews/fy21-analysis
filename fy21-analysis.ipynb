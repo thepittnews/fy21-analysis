{
 "cells": [
  {
   "cell_type": "markdown",
   "id": "3b0f75ff-d675-47e1-a075-884edb11081a",
   "metadata": {},
   "source": [
    "# Setup"
   ]
  },
  {
   "cell_type": "code",
   "execution_count": 1,
   "id": "0d39a3e4-9ec1-4a81-9461-612572c07a5d",
   "metadata": {},
   "outputs": [],
   "source": [
    "import pandas as pd"
   ]
  },
  {
   "cell_type": "code",
   "execution_count": 2,
   "id": "ad81b566-cd14-4206-841b-19d0acd5b4c5",
   "metadata": {},
   "outputs": [],
   "source": [
    "original = pd.read_csv(\"./data/original.csv\")"
   ]
  },
  {
   "cell_type": "code",
   "execution_count": 3,
   "id": "60cb3f80-1d72-4fe3-8cc5-285cd0976b87",
   "metadata": {},
   "outputs": [
    {
     "name": "stdout",
     "output_type": "stream",
     "text": [
      "<class 'pandas.core.frame.DataFrame'>\n",
      "RangeIndex: 5570 entries, 0 to 5569\n",
      "Data columns (total 11 columns):\n",
      " #   Column       Non-Null Count  Dtype \n",
      "---  ------       --------------  ----- \n",
      " 0   RC#          5570 non-null   int64 \n",
      " 1   RC Name      5570 non-null   object\n",
      " 2   Category     5570 non-null   int64 \n",
      " 3   Vendor#      5570 non-null   int64 \n",
      " 4   Vendor Name  5570 non-null   object\n",
      " 5   Address 1    5546 non-null   object\n",
      " 6   Address 2    1290 non-null   object\n",
      " 7   City         5471 non-null   object\n",
      " 8   State        5373 non-null   object\n",
      " 9   ZIP code     5559 non-null   object\n",
      " 10  Amount       5570 non-null   int64 \n",
      "dtypes: int64(4), object(7)\n",
      "memory usage: 478.8+ KB\n"
     ]
    }
   ],
   "source": [
    "original.info()"
   ]
  },
  {
   "cell_type": "code",
   "execution_count": 4,
   "id": "45fd62cb-ef31-49b3-a234-a832a71ca2db",
   "metadata": {},
   "outputs": [],
   "source": [
    "updated = pd.read_csv(\"./data/updated.csv\")"
   ]
  },
  {
   "cell_type": "code",
   "execution_count": 5,
   "id": "71c16f27-be9c-4965-a0e0-c30e8fb2051e",
   "metadata": {},
   "outputs": [
    {
     "name": "stdout",
     "output_type": "stream",
     "text": [
      "<class 'pandas.core.frame.DataFrame'>\n",
      "RangeIndex: 5920 entries, 0 to 5919\n",
      "Data columns (total 11 columns):\n",
      " #   Column       Non-Null Count  Dtype \n",
      "---  ------       --------------  ----- \n",
      " 0   RC#          5920 non-null   int64 \n",
      " 1   RC Name      5920 non-null   object\n",
      " 2   Category     5920 non-null   int64 \n",
      " 3   Vendor#      5920 non-null   int64 \n",
      " 4   Vendor Name  5920 non-null   object\n",
      " 5   Address 1    5896 non-null   object\n",
      " 6   Address 2    1359 non-null   object\n",
      " 7   City         5821 non-null   object\n",
      " 8   State        5716 non-null   object\n",
      " 9   ZIP code     5909 non-null   object\n",
      " 10  Amount       5920 non-null   int64 \n",
      "dtypes: int64(4), object(7)\n",
      "memory usage: 508.9+ KB\n"
     ]
    }
   ],
   "source": [
    "updated.info()"
   ]
  },
  {
   "cell_type": "markdown",
   "id": "5dd5f749-2ef1-4862-9559-01e29c46569d",
   "metadata": {},
   "source": [
    "# Top-line numbers"
   ]
  },
  {
   "cell_type": "code",
   "execution_count": 6,
   "id": "4e5ee955-7bcb-4de0-97f2-af1678cb5603",
   "metadata": {},
   "outputs": [
    {
     "data": {
      "text/plain": [
       "30599050"
      ]
     },
     "execution_count": 6,
     "metadata": {},
     "output_type": "execute_result"
    }
   ],
   "source": [
    "original_sum = original.Amount.sum()\n",
    "updated_sum = updated.Amount.sum()\n",
    "\n",
    "updated_sum - original_sum"
   ]
  },
  {
   "cell_type": "code",
   "execution_count": 7,
   "id": "df6bf752-2a54-4cc9-bc67-a73ffb3054af",
   "metadata": {},
   "outputs": [
    {
     "data": {
      "text/plain": [
       "350"
      ]
     },
     "execution_count": 7,
     "metadata": {},
     "output_type": "execute_result"
    }
   ],
   "source": [
    "new_transactions = len(updated) - len(original)\n",
    "new_transactions"
   ]
  },
  {
   "cell_type": "code",
   "execution_count": 8,
   "id": "5d1f1be2-ab07-41e2-9dce-3e199fa0dbbb",
   "metadata": {},
   "outputs": [],
   "source": [
    "diff = pd.concat([original, updated]).drop_duplicates(keep=False)"
   ]
  },
  {
   "cell_type": "code",
   "execution_count": 9,
   "id": "31c400b1-d4d5-47b5-a725-70446d6de1d6",
   "metadata": {},
   "outputs": [
    {
     "data": {
      "text/plain": [
       "1338"
      ]
     },
     "execution_count": 9,
     "metadata": {},
     "output_type": "execute_result"
    }
   ],
   "source": [
    "total_transactions_changed = len(diff)\n",
    "total_transactions_changed"
   ]
  },
  {
   "cell_type": "code",
   "execution_count": 10,
   "id": "4deb215c-1c11-4b90-997b-a098ae23d9da",
   "metadata": {},
   "outputs": [
    {
     "data": {
      "text/plain": [
       "988"
      ]
     },
     "execution_count": 10,
     "metadata": {},
     "output_type": "execute_result"
    }
   ],
   "source": [
    "original_transactions_changed = total_transactions_changed - new_transactions\n",
    "original_transactions_changed"
   ]
  },
  {
   "cell_type": "markdown",
   "id": "e6af7f07-1fe9-4b79-b50a-494262df5901",
   "metadata": {},
   "source": [
    "# Merge transactions"
   ]
  },
  {
   "cell_type": "code",
   "execution_count": 18,
   "id": "5c9aaa99-b698-4642-8d3a-fd7345834f2a",
   "metadata": {},
   "outputs": [],
   "source": [
    "merged_transactions = original.merge(updated, on=('RC#', 'Category', 'Vendor#'), suffixes=('_o', '_u'))\n",
    "merged_transactions['AmountDiff'] = merged_transactions.Amount_u - merged_transactions.Amount_o"
   ]
  },
  {
   "cell_type": "markdown",
   "id": "75e0c29b-7dc0-4ae5-abdc-17c48b6bc392",
   "metadata": {},
   "source": [
    "# Largest amount change"
   ]
  },
  {
   "cell_type": "code",
   "execution_count": 22,
   "id": "095e8e16-7c9b-41f8-9d06-b2f000892bb0",
   "metadata": {},
   "outputs": [
    {
     "data": {
      "text/html": [
       "<div>\n",
       "<style scoped>\n",
       "    .dataframe tbody tr th:only-of-type {\n",
       "        vertical-align: middle;\n",
       "    }\n",
       "\n",
       "    .dataframe tbody tr th {\n",
       "        vertical-align: top;\n",
       "    }\n",
       "\n",
       "    .dataframe thead th {\n",
       "        text-align: right;\n",
       "    }\n",
       "</style>\n",
       "<table border=\"1\" class=\"dataframe\">\n",
       "  <thead>\n",
       "    <tr style=\"text-align: right;\">\n",
       "      <th></th>\n",
       "      <th>RC#</th>\n",
       "      <th>RC Name_o</th>\n",
       "      <th>Category</th>\n",
       "      <th>Vendor#</th>\n",
       "      <th>Vendor Name_o</th>\n",
       "      <th>Address 1_o</th>\n",
       "      <th>Address 2_o</th>\n",
       "      <th>City_o</th>\n",
       "      <th>State_o</th>\n",
       "      <th>ZIP code_o</th>\n",
       "      <th>Amount_o</th>\n",
       "      <th>RC Name_u</th>\n",
       "      <th>Vendor Name_u</th>\n",
       "      <th>Address 1_u</th>\n",
       "      <th>Address 2_u</th>\n",
       "      <th>City_u</th>\n",
       "      <th>State_u</th>\n",
       "      <th>ZIP code_u</th>\n",
       "      <th>Amount_u</th>\n",
       "      <th>AmountDiff</th>\n",
       "    </tr>\n",
       "  </thead>\n",
       "  <tbody>\n",
       "    <tr>\n",
       "      <th>5429</th>\n",
       "      <td>85</td>\n",
       "      <td>SOMD Administration</td>\n",
       "      <td>7300</td>\n",
       "      <td>424204</td>\n",
       "      <td>BPA II LTD</td>\n",
       "      <td>1468 WEST 9TH STREET SUITE 835</td>\n",
       "      <td>NaN</td>\n",
       "      <td>CLEVELAND</td>\n",
       "      <td>OH</td>\n",
       "      <td>44113</td>\n",
       "      <td>8366840</td>\n",
       "      <td>SOMD Administration</td>\n",
       "      <td>BPA II LTD</td>\n",
       "      <td>1468 WEST 9TH STREET SUITE 835</td>\n",
       "      <td>NaN</td>\n",
       "      <td>CLEVELAND</td>\n",
       "      <td>OH</td>\n",
       "      <td>44113</td>\n",
       "      <td>10951439</td>\n",
       "      <td>2584599</td>\n",
       "    </tr>\n",
       "    <tr>\n",
       "      <th>5431</th>\n",
       "      <td>92</td>\n",
       "      <td>Business and Auxiliary Services</td>\n",
       "      <td>7300</td>\n",
       "      <td>505445</td>\n",
       "      <td>WYNDHAM PITTSBURGH UNIVERSITY CENTER</td>\n",
       "      <td>545 E JOHN CARPENTER FREEWAY STE 1300</td>\n",
       "      <td>NaN</td>\n",
       "      <td>IRVING</td>\n",
       "      <td>TX</td>\n",
       "      <td>75062</td>\n",
       "      <td>9634730</td>\n",
       "      <td>Business and Auxiliary Services</td>\n",
       "      <td>WYNDHAM PITTSBURGH UNIVERSITY CENTER</td>\n",
       "      <td>545 E JOHN CARPENTER FREEWAY STE 1300</td>\n",
       "      <td>NaN</td>\n",
       "      <td>IRVING</td>\n",
       "      <td>TX</td>\n",
       "      <td>75062</td>\n",
       "      <td>11657790</td>\n",
       "      <td>2023060</td>\n",
       "    </tr>\n",
       "    <tr>\n",
       "      <th>5422</th>\n",
       "      <td>83</td>\n",
       "      <td>General University</td>\n",
       "      <td>7700</td>\n",
       "      <td>204776</td>\n",
       "      <td>MARSH USA, INC</td>\n",
       "      <td>P O BOX 281915</td>\n",
       "      <td>NaN</td>\n",
       "      <td>ATLANTA</td>\n",
       "      <td>GA</td>\n",
       "      <td>30384</td>\n",
       "      <td>4335280</td>\n",
       "      <td>General University</td>\n",
       "      <td>MARSH USA, INC</td>\n",
       "      <td>P O BOX 281915</td>\n",
       "      <td>NaN</td>\n",
       "      <td>ATLANTA</td>\n",
       "      <td>GA</td>\n",
       "      <td>30384</td>\n",
       "      <td>6071082</td>\n",
       "      <td>1735802</td>\n",
       "    </tr>\n",
       "    <tr>\n",
       "      <th>5424</th>\n",
       "      <td>92</td>\n",
       "      <td>Business and Auxiliary Services</td>\n",
       "      <td>7300</td>\n",
       "      <td>687995</td>\n",
       "      <td>MWK FORBES II LLC</td>\n",
       "      <td>3341 FORBES AVENUE</td>\n",
       "      <td>NaN</td>\n",
       "      <td>PITTSBURGH</td>\n",
       "      <td>PA</td>\n",
       "      <td>15213</td>\n",
       "      <td>5168342</td>\n",
       "      <td>Business and Auxiliary Services</td>\n",
       "      <td>MWK FORBES II LLC</td>\n",
       "      <td>3341 FORBES AVENUE</td>\n",
       "      <td>NaN</td>\n",
       "      <td>PITTSBURGH</td>\n",
       "      <td>PA</td>\n",
       "      <td>15213</td>\n",
       "      <td>6280388</td>\n",
       "      <td>1112046</td>\n",
       "    </tr>\n",
       "    <tr>\n",
       "      <th>5432</th>\n",
       "      <td>67</td>\n",
       "      <td>Facilities Management</td>\n",
       "      <td>7000</td>\n",
       "      <td>103658</td>\n",
       "      <td>DUQUESNE LIGHT COMPANY</td>\n",
       "      <td>PO BOX 830012</td>\n",
       "      <td>NaN</td>\n",
       "      <td>BALTIMORE</td>\n",
       "      <td>MD</td>\n",
       "      <td>21283-0012</td>\n",
       "      <td>23831022</td>\n",
       "      <td>Facilities Management</td>\n",
       "      <td>DUQUESNE LIGHT COMPANY</td>\n",
       "      <td>PO BOX 830012</td>\n",
       "      <td>NaN</td>\n",
       "      <td>BALTIMORE</td>\n",
       "      <td>MD</td>\n",
       "      <td>21283-0012</td>\n",
       "      <td>24578216</td>\n",
       "      <td>747194</td>\n",
       "    </tr>\n",
       "  </tbody>\n",
       "</table>\n",
       "</div>"
      ],
      "text/plain": [
       "      RC#                        RC Name_o  Category  Vendor#  \\\n",
       "5429   85              SOMD Administration      7300   424204   \n",
       "5431   92  Business and Auxiliary Services      7300   505445   \n",
       "5422   83               General University      7700   204776   \n",
       "5424   92  Business and Auxiliary Services      7300   687995   \n",
       "5432   67            Facilities Management      7000   103658   \n",
       "\n",
       "                             Vendor Name_o  \\\n",
       "5429                            BPA II LTD   \n",
       "5431  WYNDHAM PITTSBURGH UNIVERSITY CENTER   \n",
       "5422                        MARSH USA, INC   \n",
       "5424                     MWK FORBES II LLC   \n",
       "5432                DUQUESNE LIGHT COMPANY   \n",
       "\n",
       "                                Address 1_o Address 2_o      City_o State_o  \\\n",
       "5429         1468 WEST 9TH STREET SUITE 835         NaN   CLEVELAND      OH   \n",
       "5431  545 E JOHN CARPENTER FREEWAY STE 1300         NaN      IRVING      TX   \n",
       "5422                         P O BOX 281915         NaN     ATLANTA      GA   \n",
       "5424                     3341 FORBES AVENUE         NaN  PITTSBURGH      PA   \n",
       "5432                          PO BOX 830012         NaN   BALTIMORE      MD   \n",
       "\n",
       "      ZIP code_o  Amount_o                        RC Name_u  \\\n",
       "5429       44113   8366840              SOMD Administration   \n",
       "5431       75062   9634730  Business and Auxiliary Services   \n",
       "5422       30384   4335280               General University   \n",
       "5424       15213   5168342  Business and Auxiliary Services   \n",
       "5432  21283-0012  23831022            Facilities Management   \n",
       "\n",
       "                             Vendor Name_u  \\\n",
       "5429                            BPA II LTD   \n",
       "5431  WYNDHAM PITTSBURGH UNIVERSITY CENTER   \n",
       "5422                        MARSH USA, INC   \n",
       "5424                     MWK FORBES II LLC   \n",
       "5432                DUQUESNE LIGHT COMPANY   \n",
       "\n",
       "                                Address 1_u Address 2_u      City_u State_u  \\\n",
       "5429         1468 WEST 9TH STREET SUITE 835         NaN   CLEVELAND      OH   \n",
       "5431  545 E JOHN CARPENTER FREEWAY STE 1300         NaN      IRVING      TX   \n",
       "5422                         P O BOX 281915         NaN     ATLANTA      GA   \n",
       "5424                     3341 FORBES AVENUE         NaN  PITTSBURGH      PA   \n",
       "5432                          PO BOX 830012         NaN   BALTIMORE      MD   \n",
       "\n",
       "      ZIP code_u  Amount_u  AmountDiff  \n",
       "5429       44113  10951439     2584599  \n",
       "5431       75062  11657790     2023060  \n",
       "5422       30384   6071082     1735802  \n",
       "5424       15213   6280388     1112046  \n",
       "5432  21283-0012  24578216      747194  "
      ]
     },
     "execution_count": 22,
     "metadata": {},
     "output_type": "execute_result"
    }
   ],
   "source": [
    "merged_transactions.sort_values(by=['AmountDiff'], ascending=False).head(5)"
   ]
  }
 ],
 "metadata": {
  "kernelspec": {
   "display_name": "Python 3 (ipykernel)",
   "language": "python",
   "name": "python3"
  },
  "language_info": {
   "codemirror_mode": {
    "name": "ipython",
    "version": 3
   },
   "file_extension": ".py",
   "mimetype": "text/x-python",
   "name": "python",
   "nbconvert_exporter": "python",
   "pygments_lexer": "ipython3",
   "version": "3.9.10"
  }
 },
 "nbformat": 4,
 "nbformat_minor": 5
}
