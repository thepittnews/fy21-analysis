{
 "cells": [
  {
   "cell_type": "markdown",
   "id": "3b0f75ff-d675-47e1-a075-884edb11081a",
   "metadata": {},
   "source": [
    "# Setup"
   ]
  },
  {
   "cell_type": "code",
   "execution_count": 1,
   "id": "0d39a3e4-9ec1-4a81-9461-612572c07a5d",
   "metadata": {},
   "outputs": [],
   "source": [
    "import pandas as pd\n",
    "\n",
    "TRANSACTION_INDEX = ['TPN_ID']"
   ]
  },
  {
   "cell_type": "code",
   "execution_count": 2,
   "id": "ad81b566-cd14-4206-841b-19d0acd5b4c5",
   "metadata": {},
   "outputs": [],
   "source": [
    "original = pd.read_csv(\"./data/original_sorted.csv\")"
   ]
  },
  {
   "cell_type": "code",
   "execution_count": 3,
   "id": "60cb3f80-1d72-4fe3-8cc5-285cd0976b87",
   "metadata": {},
   "outputs": [
    {
     "name": "stdout",
     "output_type": "stream",
     "text": [
      "<class 'pandas.core.frame.DataFrame'>\n",
      "RangeIndex: 5568 entries, 0 to 5567\n",
      "Data columns (total 12 columns):\n",
      " #   Column       Non-Null Count  Dtype \n",
      "---  ------       --------------  ----- \n",
      " 0   RC#          5568 non-null   int64 \n",
      " 1   RC Name      5568 non-null   object\n",
      " 2   Category     5568 non-null   int64 \n",
      " 3   Vendor#      5568 non-null   int64 \n",
      " 4   Vendor Name  5568 non-null   object\n",
      " 5   Address 1    5544 non-null   object\n",
      " 6   Address 2    1290 non-null   object\n",
      " 7   City         5469 non-null   object\n",
      " 8   State        5371 non-null   object\n",
      " 9   ZIP code     5557 non-null   object\n",
      " 10  Amount       5568 non-null   int64 \n",
      " 11  TPN_ID       5568 non-null   object\n",
      "dtypes: int64(4), object(8)\n",
      "memory usage: 522.1+ KB\n"
     ]
    }
   ],
   "source": [
    "original.info()"
   ]
  },
  {
   "cell_type": "code",
   "execution_count": 4,
   "id": "45fd62cb-ef31-49b3-a234-a832a71ca2db",
   "metadata": {},
   "outputs": [],
   "source": [
    "updated = pd.read_csv(\"./data/updated_sorted.csv\").set_index(TRANSACTION_INDEX)"
   ]
  },
  {
   "cell_type": "code",
   "execution_count": 5,
   "id": "71c16f27-be9c-4965-a0e0-c30e8fb2051e",
   "metadata": {},
   "outputs": [
    {
     "name": "stdout",
     "output_type": "stream",
     "text": [
      "<class 'pandas.core.frame.DataFrame'>\n",
      "Index: 5920 entries, 1-6000-100877-1 to 94-6900-328199-1\n",
      "Data columns (total 11 columns):\n",
      " #   Column       Non-Null Count  Dtype \n",
      "---  ------       --------------  ----- \n",
      " 0   RC#          5920 non-null   int64 \n",
      " 1   RC Name      5920 non-null   object\n",
      " 2   Category     5920 non-null   int64 \n",
      " 3   Vendor#      5920 non-null   int64 \n",
      " 4   Vendor Name  5920 non-null   object\n",
      " 5   Address 1    5896 non-null   object\n",
      " 6   Address 2    1359 non-null   object\n",
      " 7   City         5821 non-null   object\n",
      " 8   State        5716 non-null   object\n",
      " 9   ZIP code     5909 non-null   object\n",
      " 10  Amount       5920 non-null   int64 \n",
      "dtypes: int64(4), object(7)\n",
      "memory usage: 555.0+ KB\n"
     ]
    }
   ],
   "source": [
    "updated.info()"
   ]
  },
  {
   "cell_type": "markdown",
   "id": "5dd5f749-2ef1-4862-9559-01e29c46569d",
   "metadata": {},
   "source": [
    "# Top-line numbers"
   ]
  },
  {
   "cell_type": "code",
   "execution_count": 6,
   "id": "4e5ee955-7bcb-4de0-97f2-af1678cb5603",
   "metadata": {},
   "outputs": [
    {
     "data": {
      "text/plain": [
       "30599050"
      ]
     },
     "execution_count": 6,
     "metadata": {},
     "output_type": "execute_result"
    }
   ],
   "source": [
    "original_sum = original.Amount.sum()\n",
    "updated_sum = updated.Amount.sum()\n",
    "\n",
    "updated_sum - original_sum"
   ]
  },
  {
   "cell_type": "code",
   "execution_count": 7,
   "id": "df6bf752-2a54-4cc9-bc67-a73ffb3054af",
   "metadata": {},
   "outputs": [
    {
     "data": {
      "text/plain": [
       "352"
      ]
     },
     "execution_count": 7,
     "metadata": {},
     "output_type": "execute_result"
    }
   ],
   "source": [
    "new_transactions = len(updated) - len(original)\n",
    "new_transactions"
   ]
  },
  {
   "cell_type": "code",
   "execution_count": 8,
   "id": "5d1f1be2-ab07-41e2-9dce-3e199fa0dbbb",
   "metadata": {},
   "outputs": [],
   "source": [
    "diff = pd.concat([original, updated]).drop_duplicates(keep=False)"
   ]
  },
  {
   "cell_type": "code",
   "execution_count": 9,
   "id": "31c400b1-d4d5-47b5-a725-70446d6de1d6",
   "metadata": {},
   "outputs": [
    {
     "data": {
      "text/plain": [
       "11488"
      ]
     },
     "execution_count": 9,
     "metadata": {},
     "output_type": "execute_result"
    }
   ],
   "source": [
    "total_transactions_changed = len(diff)\n",
    "total_transactions_changed"
   ]
  },
  {
   "cell_type": "code",
   "execution_count": 10,
   "id": "4deb215c-1c11-4b90-997b-a098ae23d9da",
   "metadata": {},
   "outputs": [
    {
     "data": {
      "text/plain": [
       "11136"
      ]
     },
     "execution_count": 10,
     "metadata": {},
     "output_type": "execute_result"
    }
   ],
   "source": [
    "original_transactions_changed = total_transactions_changed - new_transactions\n",
    "original_transactions_changed"
   ]
  },
  {
   "cell_type": "markdown",
   "id": "e6af7f07-1fe9-4b79-b50a-494262df5901",
   "metadata": {},
   "source": [
    "# Merge transactions"
   ]
  },
  {
   "cell_type": "code",
   "execution_count": 11,
   "id": "5c9aaa99-b698-4642-8d3a-fd7345834f2a",
   "metadata": {},
   "outputs": [],
   "source": [
    "merged_transactions = original.merge(updated, on=TRANSACTION_INDEX, suffixes=('_o', '_u'))\n",
    "merged_transactions['AmountDiff'] = merged_transactions.Amount_u - merged_transactions.Amount_o"
   ]
  },
  {
   "cell_type": "markdown",
   "id": "75e0c29b-7dc0-4ae5-abdc-17c48b6bc392",
   "metadata": {},
   "source": [
    "# Largest amounts - change from original to updated"
   ]
  },
  {
   "cell_type": "code",
   "execution_count": 12,
   "id": "095e8e16-7c9b-41f8-9d06-b2f000892bb0",
   "metadata": {},
   "outputs": [
    {
     "data": {
      "text/html": [
       "<div>\n",
       "<style scoped>\n",
       "    .dataframe tbody tr th:only-of-type {\n",
       "        vertical-align: middle;\n",
       "    }\n",
       "\n",
       "    .dataframe tbody tr th {\n",
       "        vertical-align: top;\n",
       "    }\n",
       "\n",
       "    .dataframe thead th {\n",
       "        text-align: right;\n",
       "    }\n",
       "</style>\n",
       "<table border=\"1\" class=\"dataframe\">\n",
       "  <thead>\n",
       "    <tr style=\"text-align: right;\">\n",
       "      <th></th>\n",
       "      <th>RC#_o</th>\n",
       "      <th>RC Name_o</th>\n",
       "      <th>Category_o</th>\n",
       "      <th>Vendor#_o</th>\n",
       "      <th>Vendor Name_o</th>\n",
       "      <th>Address 1_o</th>\n",
       "      <th>Address 2_o</th>\n",
       "      <th>City_o</th>\n",
       "      <th>State_o</th>\n",
       "      <th>ZIP code_o</th>\n",
       "      <th>...</th>\n",
       "      <th>Category_u</th>\n",
       "      <th>Vendor#_u</th>\n",
       "      <th>Vendor Name_u</th>\n",
       "      <th>Address 1_u</th>\n",
       "      <th>Address 2_u</th>\n",
       "      <th>City_u</th>\n",
       "      <th>State_u</th>\n",
       "      <th>ZIP code_u</th>\n",
       "      <th>Amount_u</th>\n",
       "      <th>AmountDiff</th>\n",
       "    </tr>\n",
       "  </thead>\n",
       "  <tbody>\n",
       "    <tr>\n",
       "      <th>4768</th>\n",
       "      <td>85</td>\n",
       "      <td>SOMD Administration</td>\n",
       "      <td>7300</td>\n",
       "      <td>424204</td>\n",
       "      <td>BPA II LTD</td>\n",
       "      <td>1468 WEST 9TH STREET SUITE 835</td>\n",
       "      <td>NaN</td>\n",
       "      <td>CLEVELAND</td>\n",
       "      <td>OH</td>\n",
       "      <td>44113</td>\n",
       "      <td>...</td>\n",
       "      <td>7300</td>\n",
       "      <td>424204</td>\n",
       "      <td>BPA II LTD</td>\n",
       "      <td>1468 WEST 9TH STREET SUITE 835</td>\n",
       "      <td>NaN</td>\n",
       "      <td>CLEVELAND</td>\n",
       "      <td>OH</td>\n",
       "      <td>44113</td>\n",
       "      <td>10951439</td>\n",
       "      <td>2584599</td>\n",
       "    </tr>\n",
       "    <tr>\n",
       "      <th>5304</th>\n",
       "      <td>92</td>\n",
       "      <td>Business and Auxiliary Services</td>\n",
       "      <td>7300</td>\n",
       "      <td>505445</td>\n",
       "      <td>WYNDHAM PITTSBURGH UNIVERSITY CENTER</td>\n",
       "      <td>545 E JOHN CARPENTER FREEWAY STE 1300</td>\n",
       "      <td>NaN</td>\n",
       "      <td>IRVING</td>\n",
       "      <td>TX</td>\n",
       "      <td>75062</td>\n",
       "      <td>...</td>\n",
       "      <td>7300</td>\n",
       "      <td>505445</td>\n",
       "      <td>WYNDHAM PITTSBURGH UNIVERSITY CENTER</td>\n",
       "      <td>545 E JOHN CARPENTER FREEWAY STE 1300</td>\n",
       "      <td>NaN</td>\n",
       "      <td>IRVING</td>\n",
       "      <td>TX</td>\n",
       "      <td>75062</td>\n",
       "      <td>11657790</td>\n",
       "      <td>2023060</td>\n",
       "    </tr>\n",
       "    <tr>\n",
       "      <th>4414</th>\n",
       "      <td>83</td>\n",
       "      <td>General University</td>\n",
       "      <td>7700</td>\n",
       "      <td>204776</td>\n",
       "      <td>MARSH USA, INC</td>\n",
       "      <td>P O BOX 281915</td>\n",
       "      <td>NaN</td>\n",
       "      <td>ATLANTA</td>\n",
       "      <td>GA</td>\n",
       "      <td>30384</td>\n",
       "      <td>...</td>\n",
       "      <td>7700</td>\n",
       "      <td>204776</td>\n",
       "      <td>MARSH USA, INC</td>\n",
       "      <td>P O BOX 281915</td>\n",
       "      <td>NaN</td>\n",
       "      <td>ATLANTA</td>\n",
       "      <td>GA</td>\n",
       "      <td>30384</td>\n",
       "      <td>6071082</td>\n",
       "      <td>1735802</td>\n",
       "    </tr>\n",
       "    <tr>\n",
       "      <th>5310</th>\n",
       "      <td>92</td>\n",
       "      <td>Business and Auxiliary Services</td>\n",
       "      <td>7300</td>\n",
       "      <td>687995</td>\n",
       "      <td>MWK FORBES II LLC</td>\n",
       "      <td>3341 FORBES AVENUE</td>\n",
       "      <td>NaN</td>\n",
       "      <td>PITTSBURGH</td>\n",
       "      <td>PA</td>\n",
       "      <td>15213</td>\n",
       "      <td>...</td>\n",
       "      <td>7300</td>\n",
       "      <td>687995</td>\n",
       "      <td>MWK FORBES II LLC</td>\n",
       "      <td>3341 FORBES AVENUE</td>\n",
       "      <td>NaN</td>\n",
       "      <td>PITTSBURGH</td>\n",
       "      <td>PA</td>\n",
       "      <td>15213</td>\n",
       "      <td>6280388</td>\n",
       "      <td>1112046</td>\n",
       "    </tr>\n",
       "    <tr>\n",
       "      <th>3799</th>\n",
       "      <td>67</td>\n",
       "      <td>Facilities Management</td>\n",
       "      <td>7000</td>\n",
       "      <td>103658</td>\n",
       "      <td>DUQUESNE LIGHT COMPANY</td>\n",
       "      <td>PO BOX 830012</td>\n",
       "      <td>NaN</td>\n",
       "      <td>BALTIMORE</td>\n",
       "      <td>MD</td>\n",
       "      <td>21283-0012</td>\n",
       "      <td>...</td>\n",
       "      <td>7000</td>\n",
       "      <td>103658</td>\n",
       "      <td>DUQUESNE LIGHT COMPANY</td>\n",
       "      <td>PO BOX 830012</td>\n",
       "      <td>NaN</td>\n",
       "      <td>BALTIMORE</td>\n",
       "      <td>MD</td>\n",
       "      <td>21283-0012</td>\n",
       "      <td>24578216</td>\n",
       "      <td>747194</td>\n",
       "    </tr>\n",
       "  </tbody>\n",
       "</table>\n",
       "<p>5 rows × 24 columns</p>\n",
       "</div>"
      ],
      "text/plain": [
       "      RC#_o                        RC Name_o  Category_o  Vendor#_o  \\\n",
       "4768     85              SOMD Administration        7300     424204   \n",
       "5304     92  Business and Auxiliary Services        7300     505445   \n",
       "4414     83               General University        7700     204776   \n",
       "5310     92  Business and Auxiliary Services        7300     687995   \n",
       "3799     67            Facilities Management        7000     103658   \n",
       "\n",
       "                             Vendor Name_o  \\\n",
       "4768                            BPA II LTD   \n",
       "5304  WYNDHAM PITTSBURGH UNIVERSITY CENTER   \n",
       "4414                        MARSH USA, INC   \n",
       "5310                     MWK FORBES II LLC   \n",
       "3799                DUQUESNE LIGHT COMPANY   \n",
       "\n",
       "                                Address 1_o Address 2_o      City_o State_o  \\\n",
       "4768         1468 WEST 9TH STREET SUITE 835         NaN   CLEVELAND      OH   \n",
       "5304  545 E JOHN CARPENTER FREEWAY STE 1300         NaN      IRVING      TX   \n",
       "4414                         P O BOX 281915         NaN     ATLANTA      GA   \n",
       "5310                     3341 FORBES AVENUE         NaN  PITTSBURGH      PA   \n",
       "3799                          PO BOX 830012         NaN   BALTIMORE      MD   \n",
       "\n",
       "      ZIP code_o  ...  Category_u Vendor#_u  \\\n",
       "4768       44113  ...        7300    424204   \n",
       "5304       75062  ...        7300    505445   \n",
       "4414       30384  ...        7700    204776   \n",
       "5310       15213  ...        7300    687995   \n",
       "3799  21283-0012  ...        7000    103658   \n",
       "\n",
       "                             Vendor Name_u  \\\n",
       "4768                            BPA II LTD   \n",
       "5304  WYNDHAM PITTSBURGH UNIVERSITY CENTER   \n",
       "4414                        MARSH USA, INC   \n",
       "5310                     MWK FORBES II LLC   \n",
       "3799                DUQUESNE LIGHT COMPANY   \n",
       "\n",
       "                                Address 1_u  Address 2_u      City_u State_u  \\\n",
       "4768         1468 WEST 9TH STREET SUITE 835          NaN   CLEVELAND      OH   \n",
       "5304  545 E JOHN CARPENTER FREEWAY STE 1300          NaN      IRVING      TX   \n",
       "4414                         P O BOX 281915          NaN     ATLANTA      GA   \n",
       "5310                     3341 FORBES AVENUE          NaN  PITTSBURGH      PA   \n",
       "3799                          PO BOX 830012          NaN   BALTIMORE      MD   \n",
       "\n",
       "      ZIP code_u  Amount_u AmountDiff  \n",
       "4768       44113  10951439    2584599  \n",
       "5304       75062  11657790    2023060  \n",
       "4414       30384   6071082    1735802  \n",
       "5310       15213   6280388    1112046  \n",
       "3799  21283-0012  24578216     747194  \n",
       "\n",
       "[5 rows x 24 columns]"
      ]
     },
     "execution_count": 12,
     "metadata": {},
     "output_type": "execute_result"
    }
   ],
   "source": [
    "merged_transactions.sort_values(by=['AmountDiff'], ascending=False).head(5)"
   ]
  },
  {
   "cell_type": "markdown",
   "id": "e0fd3f0a-7f0b-44e4-a3b4-8f80f07cc862",
   "metadata": {},
   "source": [
    "# Largest amounts - only appearing in updated"
   ]
  },
  {
   "cell_type": "code",
   "execution_count": 13,
   "id": "d5f1db8b-dec5-4705-8a71-b7e727dcbd4d",
   "metadata": {},
   "outputs": [],
   "source": [
    "new_transactions = original.merge(updated.drop_duplicates(), on=TRANSACTION_INDEX, how='right', indicator=True)\n",
    "new_transactions.fillna(value={\"Amount_x\": 0}, inplace=True)\n",
    "new_transactions['AmountDiff'] = new_transactions.Amount_y - new_transactions.Amount_x"
   ]
  },
  {
   "cell_type": "code",
   "execution_count": 14,
   "id": "774d1c8a-b61b-4a25-9f5d-ee939f62f8ac",
   "metadata": {},
   "outputs": [
    {
     "data": {
      "text/html": [
       "<div>\n",
       "<style scoped>\n",
       "    .dataframe tbody tr th:only-of-type {\n",
       "        vertical-align: middle;\n",
       "    }\n",
       "\n",
       "    .dataframe tbody tr th {\n",
       "        vertical-align: top;\n",
       "    }\n",
       "\n",
       "    .dataframe thead th {\n",
       "        text-align: right;\n",
       "    }\n",
       "</style>\n",
       "<table border=\"1\" class=\"dataframe\">\n",
       "  <thead>\n",
       "    <tr style=\"text-align: right;\">\n",
       "      <th></th>\n",
       "      <th>RC#_y</th>\n",
       "      <th>RC Name_y</th>\n",
       "      <th>Category_y</th>\n",
       "      <th>Vendor#_y</th>\n",
       "      <th>Vendor Name_y</th>\n",
       "      <th>Address 1_y</th>\n",
       "      <th>Address 2_y</th>\n",
       "      <th>City_y</th>\n",
       "      <th>State_y</th>\n",
       "      <th>ZIP code_y</th>\n",
       "      <th>Amount_y</th>\n",
       "      <th>TPN_ID</th>\n",
       "      <th>_merge</th>\n",
       "      <th>AmountDiff</th>\n",
       "    </tr>\n",
       "  </thead>\n",
       "  <tbody>\n",
       "    <tr>\n",
       "      <th>469</th>\n",
       "      <td>6</td>\n",
       "      <td>Kenneth P. Dietrich School of Arts and Sciences</td>\n",
       "      <td>6400</td>\n",
       "      <td>104257</td>\n",
       "      <td>FISHER SCIENTIFIC COMPANY LLC</td>\n",
       "      <td>PO BOX 406538</td>\n",
       "      <td>NaN</td>\n",
       "      <td>ATLANTA</td>\n",
       "      <td>GA</td>\n",
       "      <td>30384-6538</td>\n",
       "      <td>2344352</td>\n",
       "      <td>6-6400-104257-1</td>\n",
       "      <td>right_only</td>\n",
       "      <td>2344352.0</td>\n",
       "    </tr>\n",
       "    <tr>\n",
       "      <th>5861</th>\n",
       "      <td>93</td>\n",
       "      <td>Public Safety and Emergency Management</td>\n",
       "      <td>6400</td>\n",
       "      <td>446194</td>\n",
       "      <td>LANDMARK EVENT STAFFING SERVICES, INC</td>\n",
       "      <td>4131 HARBOR WALK DRIVE</td>\n",
       "      <td>NaN</td>\n",
       "      <td>FORT COLLINS</td>\n",
       "      <td>CO</td>\n",
       "      <td>80525</td>\n",
       "      <td>1689115</td>\n",
       "      <td>93-6400-446194-1</td>\n",
       "      <td>right_only</td>\n",
       "      <td>1689115.0</td>\n",
       "    </tr>\n",
       "    <tr>\n",
       "      <th>1315</th>\n",
       "      <td>30</td>\n",
       "      <td>SVC Health Sciences</td>\n",
       "      <td>6400</td>\n",
       "      <td>114200</td>\n",
       "      <td>QUEST DIAGNOSTICS</td>\n",
       "      <td>P.O. BOX 740709</td>\n",
       "      <td>NaN</td>\n",
       "      <td>ATLANTA</td>\n",
       "      <td>GA</td>\n",
       "      <td>30374-0709</td>\n",
       "      <td>1237840</td>\n",
       "      <td>30-6400-114200-1</td>\n",
       "      <td>right_only</td>\n",
       "      <td>1237840.0</td>\n",
       "    </tr>\n",
       "    <tr>\n",
       "      <th>787</th>\n",
       "      <td>10</td>\n",
       "      <td>SVC and Provost</td>\n",
       "      <td>6400</td>\n",
       "      <td>689608</td>\n",
       "      <td>PFL</td>\n",
       "      <td>100 PFL WAY</td>\n",
       "      <td>NaN</td>\n",
       "      <td>LIVINGSTON</td>\n",
       "      <td>MT</td>\n",
       "      <td>59047</td>\n",
       "      <td>790510</td>\n",
       "      <td>10-6400-689608-1</td>\n",
       "      <td>right_only</td>\n",
       "      <td>790510.0</td>\n",
       "    </tr>\n",
       "    <tr>\n",
       "      <th>5063</th>\n",
       "      <td>87</td>\n",
       "      <td>SVC and Chief Financial Officer</td>\n",
       "      <td>6400</td>\n",
       "      <td>521322</td>\n",
       "      <td>SUPRA OFFICE SOLUTIONS INC</td>\n",
       "      <td>PO BOX 201</td>\n",
       "      <td>NaN</td>\n",
       "      <td>BALA CYNWYD</td>\n",
       "      <td>PA</td>\n",
       "      <td>19004</td>\n",
       "      <td>600681</td>\n",
       "      <td>87-6400-521322-1</td>\n",
       "      <td>right_only</td>\n",
       "      <td>600681.0</td>\n",
       "    </tr>\n",
       "  </tbody>\n",
       "</table>\n",
       "</div>"
      ],
      "text/plain": [
       "      RC#_y                                        RC Name_y  Category_y  \\\n",
       "469       6  Kenneth P. Dietrich School of Arts and Sciences        6400   \n",
       "5861     93           Public Safety and Emergency Management        6400   \n",
       "1315     30                              SVC Health Sciences        6400   \n",
       "787      10                                  SVC and Provost        6400   \n",
       "5063     87                  SVC and Chief Financial Officer        6400   \n",
       "\n",
       "      Vendor#_y                          Vendor Name_y  \\\n",
       "469      104257          FISHER SCIENTIFIC COMPANY LLC   \n",
       "5861     446194  LANDMARK EVENT STAFFING SERVICES, INC   \n",
       "1315     114200                      QUEST DIAGNOSTICS   \n",
       "787      689608                                    PFL   \n",
       "5063     521322             SUPRA OFFICE SOLUTIONS INC   \n",
       "\n",
       "                 Address 1_y Address 2_y        City_y State_y  ZIP code_y  \\\n",
       "469            PO BOX 406538         NaN       ATLANTA      GA  30384-6538   \n",
       "5861  4131 HARBOR WALK DRIVE         NaN  FORT COLLINS      CO       80525   \n",
       "1315         P.O. BOX 740709         NaN       ATLANTA      GA  30374-0709   \n",
       "787              100 PFL WAY         NaN    LIVINGSTON      MT       59047   \n",
       "5063              PO BOX 201         NaN   BALA CYNWYD      PA       19004   \n",
       "\n",
       "      Amount_y            TPN_ID      _merge  AmountDiff  \n",
       "469    2344352   6-6400-104257-1  right_only   2344352.0  \n",
       "5861   1689115  93-6400-446194-1  right_only   1689115.0  \n",
       "1315   1237840  30-6400-114200-1  right_only   1237840.0  \n",
       "787     790510  10-6400-689608-1  right_only    790510.0  \n",
       "5063    600681  87-6400-521322-1  right_only    600681.0  "
      ]
     },
     "execution_count": 14,
     "metadata": {},
     "output_type": "execute_result"
    }
   ],
   "source": [
    "display_columns = ['RC#_y', 'RC Name_y', 'Category_y', 'Vendor#_y', 'Vendor Name_y', 'Address 1_y', 'Address 2_y', 'City_y', 'State_y', 'ZIP code_y', 'Amount_y', 'TPN_ID', '_merge', 'AmountDiff']\n",
    "new_transactions[new_transactions._merge == \"right_only\"].sort_values(by=['AmountDiff'], ascending=False).head(5)[display_columns]"
   ]
  }
 ],
 "metadata": {
  "kernelspec": {
   "display_name": "Python 3 (ipykernel)",
   "language": "python",
   "name": "python3"
  },
  "language_info": {
   "codemirror_mode": {
    "name": "ipython",
    "version": 3
   },
   "file_extension": ".py",
   "mimetype": "text/x-python",
   "name": "python",
   "nbconvert_exporter": "python",
   "pygments_lexer": "ipython3",
   "version": "3.9.10"
  }
 },
 "nbformat": 4,
 "nbformat_minor": 5
}
